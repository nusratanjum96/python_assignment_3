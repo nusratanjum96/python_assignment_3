{
 "cells": [
  {
   "cell_type": "code",
   "execution_count": 8,
   "metadata": {},
   "outputs": [
    {
     "name": "stdout",
     "output_type": "stream",
     "text": [
      "Checking if 55 exists in list ( using loop ) : \n",
      "Element Exists\n"
     ]
    }
   ],
   "source": [
    "test_list = [ 11,62,'#',33,'T',55, 'w',74 ,'a','t','s',67,32,'p'] \n",
    "  \n",
    "print(\"Checking if 55 exists in list ( using loop ) : \") \n",
    "  \n",
    "# Checking if 55 exists in list  \n",
    "# using loop \n",
    "for i in test_list: \n",
    "    if(i == 55) : \n",
    "        print (\"Element Exists\") \n",
    "  \n",
    "\n",
    "  \n",
    "\n"
   ]
  },
  {
   "cell_type": "code",
   "execution_count": null,
   "metadata": {},
   "outputs": [],
   "source": []
  }
 ],
 "metadata": {
  "kernelspec": {
   "display_name": "Python 3",
   "language": "python",
   "name": "python3"
  },
  "language_info": {
   "codemirror_mode": {
    "name": "ipython",
    "version": 3
   },
   "file_extension": ".py",
   "mimetype": "text/x-python",
   "name": "python",
   "nbconvert_exporter": "python",
   "pygments_lexer": "ipython3",
   "version": "3.7.4"
  }
 },
 "nbformat": 4,
 "nbformat_minor": 2
}
