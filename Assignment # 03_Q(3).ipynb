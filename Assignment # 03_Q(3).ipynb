{
 "cells": [
  {
   "cell_type": "code",
   "execution_count": 3,
   "metadata": {},
   "outputs": [
    {
     "name": "stdout",
     "output_type": "stream",
     "text": [
      "{'first name': 'Mark', 'last name': 'John', 'address': 'D-94 southwales.'}\n",
      "{'first name': 'Mark', 'last name': 'John', 'address': 'D-94 southwales.', 'city': 'Ankara'}\n"
     ]
    }
   ],
   "source": [
    "#answer no _3\n",
    "employee_2332 = {\"first name\": \"Mark\", \"last name\": \"John\", \"address\": \"D-94 southwales.\"} \n",
    "print(employee_2332)\n",
    "employee_2332[\"city\"] = \"Ankara\"\n",
    "print(employee_2332)"
   ]
  },
  {
   "cell_type": "code",
   "execution_count": null,
   "metadata": {},
   "outputs": [],
   "source": []
  }
 ],
 "metadata": {
  "kernelspec": {
   "display_name": "Python 3",
   "language": "python",
   "name": "python3"
  },
  "language_info": {
   "codemirror_mode": {
    "name": "ipython",
    "version": 3
   },
   "file_extension": ".py",
   "mimetype": "text/x-python",
   "name": "python",
   "nbconvert_exporter": "python",
   "pygments_lexer": "ipython3",
   "version": "3.7.4"
  }
 },
 "nbformat": 4,
 "nbformat_minor": 2
}
